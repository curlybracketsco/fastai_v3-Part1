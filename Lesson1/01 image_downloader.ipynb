{
 "cells": [
  {
   "cell_type": "markdown",
   "metadata": {},
   "source": [
    "Notebook for downloading example data set from Google images and splitting it into train and valid folders for use with the fastai function ImageDataBunch.from_folder()"
   ]
  },
  {
   "cell_type": "code",
   "execution_count": 1,
   "metadata": {},
   "outputs": [],
   "source": [
    "from google_images_download import google_images_download\n",
    "\n",
    "import random\n",
    "import os\n",
    "import shutil"
   ]
  },
  {
   "cell_type": "code",
   "execution_count": 2,
   "metadata": {},
   "outputs": [],
   "source": [
    "def create_directory(d):\n",
    "    '''creates a directory if it doesnt already exist'''\n",
    "    if not os.path.exists(d):\n",
    "        os.makedirs(d)\n",
    "\n",
    "def create_face_training_data(k=None, images_dir=None, n_images=30):\n",
    "    if k and images_dir:\n",
    "        train_dir_name = 'train'\n",
    "        valid_dir_name = 'valid'\n",
    "        create_directory(images_dir)\n",
    "        create_directory(os.path.join(images_dir, train_dir_name, k))\n",
    "        create_directory(os.path.join(images_dir, valid_dir_name, k))\n",
    "            \n",
    "        response = google_images_download.googleimagesdownload()\n",
    "        absolute_image_paths = response.download(arguments={'keywords': k,\n",
    "                                                    'type': 'face',\n",
    "                                                    'format': 'jpg',\n",
    "                                                    'output_directory': images_dir,\n",
    "                                                    'no_directory': True,\n",
    "                                                    'limit': n_images})\n",
    "        \n",
    "        files = [f for f in absolute_image_paths[k] if len(f) > 0]\n",
    "        random.shuffle(files)\n",
    "        \n",
    "        train_ratio = 0.7\n",
    "        split_point = int(train_ratio * len(files))\n",
    "        train_files = files[:split_point]\n",
    "        validation_files = files[split_point:]\n",
    "        for f in train_files:\n",
    "            shutil.move(f, os.path.join(os.path.split(f)[0], train_dir_name, k, os.path.split(f)[1]))\n",
    "        for f in validation_files:\n",
    "            shutil.move(f, os.path.join(os.path.split(f)[0], valid_dir_name, k, os.path.split(f)[1]))\n",
    "            "
   ]
  },
  {
   "cell_type": "code",
   "execution_count": null,
   "metadata": {},
   "outputs": [],
   "source": [
    "model_list = ['lily cole', 'kate upton', 'kate moss', 'miranda kerr', 'naomi campbell', 'cindy crawford', 'claudia schiffer']\n",
    "\n",
    "images_dir = './Images'\n",
    "images_per_person = 50\n",
    "\n",
    "for k in model_list:\n",
    "    create_face_training_data(k=k, images_dir=images_dir, n_images=images_per_person)"
   ]
  },
  {
   "cell_type": "code",
   "execution_count": null,
   "metadata": {},
   "outputs": [],
   "source": []
  }
 ],
 "metadata": {
  "kernelspec": {
   "display_name": "Python 3",
   "language": "python",
   "name": "python3"
  },
  "language_info": {
   "codemirror_mode": {
    "name": "ipython",
    "version": 3
   },
   "file_extension": ".py",
   "mimetype": "text/x-python",
   "name": "python",
   "nbconvert_exporter": "python",
   "pygments_lexer": "ipython3",
   "version": "3.6.7"
  }
 },
 "nbformat": 4,
 "nbformat_minor": 2
}
