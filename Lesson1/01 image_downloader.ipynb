{
 "cells": [
  {
   "cell_type": "code",
   "execution_count": 11,
   "metadata": {},
   "outputs": [],
   "source": [
    "#https://github.com/hardikvasa/google-images-download\n",
    "\n",
    "#pip install google_images_download\n",
    "\n",
    "\n",
    "from google_images_download import google_images_download\n",
    "\n",
    "import random\n",
    "import os\n",
    "import shutil\n",
    "\n",
    "def create_face_training_data(k=None, images_dir=None, n_images=30):\n",
    "    if k and images_dir:\n",
    "        train_dir_name = 'train'\n",
    "        valid_dir_name = 'valid'\n",
    "        if not os.path.exists(images_dir):\n",
    "            os.makedirs(images_dir)\n",
    "        if not os.path.exists(os.path.join(images_dir, train_dir_name)):\n",
    "            os.makedirs(os.path.join(images_dir, train_dir_name))\n",
    "        if not os.path.exists(os.path.join(images_dir, valid_dir_name)):\n",
    "            os.makedirs(os.path.join(images_dir, valid_dir_name))\n",
    "        \n",
    "        response = google_images_download.googleimagesdownload()\n",
    "        absolute_image_paths = response.download(arguments={'keywords': k,\n",
    "                                                    'type': 'face',\n",
    "                                                    'format': 'jpg',\n",
    "                                                    'output_directory': images_dir,\n",
    "                                                    'no_directory': True,\n",
    "                                                    'limit': n_images})\n",
    "        \n",
    "        files = [f for f in absolute_image_paths[k] if len(f) > 0]\n",
    "        random.shuffle(files)\n",
    "        \n",
    "        train_ratio = 0.7\n",
    "        split_point = int(train_ratio * len(files))\n",
    "        train_files = files[:split_point]\n",
    "        validation_files = files[split_point:]\n",
    "        for f in train_files:\n",
    "            shutil.move(f, os.path.join(os.path.split(f)[0], train_dir_name, os.path.split(f)[1]))\n",
    "        for f in validation_files:\n",
    "            shutil.move(f, os.path.join(os.path.split(f)[0], valid_dir_name, os.path.split(f)[1]))\n",
    "            \n"
   ]
  },
  {
   "cell_type": "code",
   "execution_count": 12,
   "metadata": {},
   "outputs": [
    {
     "name": "stdout",
     "output_type": "stream",
     "text": [
      "\n",
      "Item no.: 1 --> Item name = barack obama\n",
      "Evaluating...\n",
      "Starting Download...\n",
      "Completed Image ====> 1. 104723838-gettyimages-850288240.1910x1000.jpg\n",
      "Completed Image ====> 2. barack-obama-12782369-1-402.jpg\n",
      "Completed Image ====> 3. _93339875_obamalaughing.jpg\n",
      "Completed Image ====> 4. merlin_146248356_673f83ac-d455-4832-906f-61c540f14303-articlelarge.jpg\n",
      "Completed Image ====> 5. 44_barack_obama1.jpg\n",
      "Completed Image ====> 6. barack-obama.jpeg\n",
      "Completed Image ====> 7. image?url=https%3a%2f%2fpeopledotcom.files.wordpress.com%2f2017%2f11%2fbarack-obama1.jpg%3fw%3d2000&w=450&c=sc&poi=face&q=85.jpg\n",
      "Completed Image ====> 8. 172743-049-eeaff2b8.jpg\n",
      "Completed Image ====> 9. gettyimages-514879454-e1536252622768.jpg\n",
      "Completed Image ====> 10. 5g0fc8xx_400x400.jpg\n",
      "Completed Image ====> 11. cf2366a0-ff59-4280-82f1-d132910c694d.jpeg\n",
      "Completed Image ====> 12. dd576cbd-86a8-49b6-9e4c-02b78cc184b8-usp_ncaa_basketball__north_carolina_at_duke.jpg\n",
      "Completed Image ====> 13. gettyimages-465692015-1.jpg\n",
      "Completed Image ====> 14. 17-barack-obama.w330.h412.jpg\n",
      "Completed Image ====> 15. 586144ad1500002f00e9d1e5.jpeg\n",
      "Completed Image ====> 16. barack-obama---americas-first-african-american-president.jpg\n",
      "Completed Image ====> 17. ct-barack-obama-at-university-of-chicago-met-0424-20170421.jpg\n",
      "Completed Image ====> 18. lead_720_405.jpg\n",
      "Completed Image ====> 19. _102570197_gettyimages-1000226010.jpg\n",
      "Completed Image ====> 20. barack20obama.jpg\n",
      "\n",
      "Errors: 0\n",
      "\n"
     ]
    }
   ],
   "source": [
    "images_dir = './Images'\n",
    "images_per_person = 50\n",
    "create_face_training_data(k='lily cole', images_dir=images_dir, n_images=images_per_person)\n",
    "create_face_training_data(k='kate upton', images_dir=images_dir, n_images=images_per_person)\n",
    "create_face_training_data(k='kate moss', images_dir=images_dir, n_images=images_per_person)\n",
    "create_face_training_data(k='miranda kerr', images_dir=images_dir, n_images=images_per_person)\n",
    "create_face_training_data(k='naomi campbell', images_dir=images_dir, n_images=images_per_person)\n",
    "create_face_training_data(k='cindy crawford', images_dir=images_dir, n_images=images_per_person)\n",
    "create_face_training_data(k='claudia schiffer', images_dir=images_dir, n_images=images_per_person)"
   ]
  },
  {
   "cell_type": "code",
   "execution_count": null,
   "metadata": {},
   "outputs": [],
   "source": []
  }
 ],
 "metadata": {
  "kernelspec": {
   "display_name": "Python 3",
   "language": "python",
   "name": "python3"
  },
  "language_info": {
   "codemirror_mode": {
    "name": "ipython",
    "version": 3
   },
   "file_extension": ".py",
   "mimetype": "text/x-python",
   "name": "python",
   "nbconvert_exporter": "python",
   "pygments_lexer": "ipython3",
   "version": "3.6.7"
  }
 },
 "nbformat": 4,
 "nbformat_minor": 2
}
